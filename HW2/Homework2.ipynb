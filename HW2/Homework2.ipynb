{
 "cells": [
  {
   "cell_type": "markdown",
   "metadata": {},
   "source": [
    "##  Homework 2\n",
    "Bryan Mahoney\n",
    "\n",
    "Helicopter Aerodynamics\n",
    "\n",
    "October 15, 2016"
   ]
  },
  {
   "cell_type": "code",
   "execution_count": 2,
   "metadata": {},
   "outputs": [],
   "source": [
    "import numpy as np\n",
    "import matplotlib.pyplot as plt\n",
    "import scipy as sp\n",
    "%matplotlib inline"
   ]
  },
  {
   "cell_type": "markdown",
   "metadata": {},
   "source": [
    "### Problem 1\n",
    "\n",
    "Given a helicopter of weight, W = 6000 lb, calculate the power required in hover and at\n",
    "rates of climb (V c ) of 300, 600, -300, and -600 ft/min. The radius of main rotor is 21 ft and\n",
    "the rotor has a figure of merit of 0.75. Calculate your results at mean sea level conditions,\n",
    "and for density altitudes of five thousand and ten thousand feet. Plot your results in the\n",
    "form of power required versus climb velocity. Discuss the factors that will determine the\n",
    "maximum vertical climb rate of a helicopter.\n",
    "For negative V c check if -2 ≤ V c /v h ≤ 0. If yes, use the empirical relation for\n",
    "calculating v i /v h ."
   ]
  },
  {
   "cell_type": "code",
   "execution_count": 3,
   "metadata": {},
   "outputs": [
    {
     "data": {
      "text/plain": [
       "array([-3.05 , -1.525,  1.525,  3.05 ])"
      ]
     },
     "execution_count": 3,
     "metadata": {},
     "output_type": "execute_result"
    }
   ],
   "source": [
    "R = 21 # Ft\n",
    "W = 6000  # lbf\n",
    "V_c = np.array([-600,-300,300,600]) # ft/min\n",
    "\n",
    "R = R * 0.305  # feet to meters\n",
    "W = W * 4.448 # lbf to Newtons\n",
    "V_c = V_c * 0.305 / 60 # feet/min to meters/min\n",
    "\n",
    "rho = np.array([1.225, 1.055, 0.9046]) # kg/m^3, std atmosphere at 0, 5000, and 10,000ft\n",
    "V_c"
   ]
  },
  {
   "cell_type": "code",
   "execution_count": 5,
   "metadata": {},
   "outputs": [
    {
     "name": "stdout",
     "output_type": "stream",
     "text": [
      "[ 9.19350045  9.9065564  10.69844491] [245356.14012446 264386.17720166 285520.09764486]\n"
     ]
    }
   ],
   "source": [
    "A = np.pi * R**2\n",
    "V_h = np.sqrt(W / ( 2 * rho * A))\n",
    "P_h = W * V_h  # Should be in Watts\n",
    "print(V_h, P_h)   # m/s, Watts"
   ]
  },
  {
   "cell_type": "markdown",
   "metadata": {},
   "source": [
    "Building a 4x3 array of the $\\frac{V_c}{V_h}$ ratios for each altitude(row) and each speed(column)."
   ]
  },
  {
   "cell_type": "code",
   "execution_count": 7,
   "metadata": {},
   "outputs": [
    {
     "data": {
      "text/plain": [
       "array([[-0.33175612, -0.16587806,  0.16587806,  0.33175612],\n",
       "       [-0.30787691, -0.15393846,  0.15393846,  0.30787691],\n",
       "       [-0.28508816, -0.14254408,  0.14254408,  0.28508816]])"
      ]
     },
     "execution_count": 7,
     "metadata": {},
     "output_type": "execute_result"
    }
   ],
   "source": [
    "V_climb_ratio = np.zeros((3,4))\n",
    "\n",
    "for i in range(0,3):  # Rows\n",
    "    for j in range(0,4):   # Columns\n",
    "        V_climb_ratio[i][j] = V_c[j] / V_h[i]\n",
    "        \n",
    "V_climb_ratio"
   ]
  },
  {
   "cell_type": "markdown",
   "metadata": {},
   "source": [
    "Power required for the climb cases:\n",
    "\n",
    "$$\\frac{P_r}{P_h} = \\frac{V_c}{2 V_h} + \\sqrt{(\\frac{V_c}{V_h})^2 + 1}$$\n",
    "\n"
   ]
  },
  {
   "cell_type": "code",
   "execution_count": 9,
   "metadata": {},
   "outputs": [
    {
     "name": "stdout",
     "output_type": "stream",
     "text": [
      "[[     0.              0.         269058.38628913 299205.16708651]\n",
      " [     0.              0.         287850.02163695 317332.0798568 ]\n",
      " [     0.              0.         308755.8257299  337595.52143509]]\n"
     ]
    }
   ],
   "source": [
    "P_r = np.zeros((3,4))\n",
    "\n",
    "for i in range(0,3):  # rows; 1 for each density\n",
    "    for j in range(0,4):  # columns; 1 for each ascension rate\n",
    "        if V_climb_ratio[i][j] > 0:\n",
    "            P_r[i][j] = P_h[i] * ( 0.5 * V_climb_ratio[i][j] + np.sqrt(V_climb_ratio[i][j]**2 + 1))\n",
    "            \n",
    "print(P_r)"
   ]
  },
  {
   "cell_type": "markdown",
   "metadata": {},
   "source": [
    "To calculate induced velocity in the descent cases, since they're not in the 'Windmill Brake State', use the following empirical relation:\n",
    "\n",
    "$$ \\frac{V_i}{V_h} = k + k_1 (\\frac{V_c}{V_h}) + k_2 (\\frac{V_c}{V_h})^2 + k_3 (\\frac{V_c}{V_h}) ^ 3 + k_4 (\\frac{V_c}{V_h}) ^ 4, $$ \n",
    "\n",
    "with k = 1, k_1 = -1.125, k_2 = -1.372, k_3 = -1.718, k_4 = -0.655.\n",
    "\n",
    "\n",
    "\n",
    "To then compute power required, use:\n",
    "\n",
    "$$ \\frac{P}{P_h} = \\frac{V_c + V_i}{V_h}. $$\n"
   ]
  },
  {
   "cell_type": "code",
   "execution_count": 12,
   "metadata": {},
   "outputs": [
    {
     "name": "stdout",
     "output_type": "stream",
     "text": [
      "[[11.74025291 10.62958902]\n",
      " [12.48784479 11.35853727]\n",
      " [13.31630012 12.16616614]]\n"
     ]
    }
   ],
   "source": [
    "k = np.array([1., -1.125, -1.372, -1.718, -0.655])\n",
    "\n",
    "def get_Vi_ratio(V_climb_ratio):\n",
    "    return k[0] + k[1] * V_climb_ratio + k[2] * V_climb_ratio**2 + k[3] * V_climb_ratio**3 \\\n",
    "        + k[4] * V_climb_ratio **4\n",
    "    \n",
    "Vi = np.zeros((3,2)) \n",
    "\n",
    "for i in range(0,3):\n",
    "    Vi[i][:] = V_h[i] * get_Vi_ratio(V_climb_ratio[i][:2])\n",
    "    \n",
    "print(Vi) # Induced velocities, m/s"
   ]
  },
  {
   "cell_type": "code",
   "execution_count": 14,
   "metadata": {},
   "outputs": [
    {
     "name": "stdout",
     "output_type": "stream",
     "text": [
      "[[311.01712439 325.84587869 360.81317727 401.24066929]\n",
      " [337.77283342 351.93434701 386.01317103 425.54925554]\n",
      " [367.42257968 380.83873116 414.04831129 452.72297363]]\n"
     ]
    }
   ],
   "source": [
    "for i in range(0,3):  # Iterating over rows(again...)\n",
    "    for j in range(0,2):\n",
    "        P_r[i][j] = P_h[i] * ( V_c[j] + Vi[i,j]) / V_h[i]\n",
    "        \n",
    "P_r = P_r / 745.7  #  Watts to Horsepower conversion\n",
    "print(P_r)  #  Rows are different altitudes, columns are different velocities"
   ]
  },
  {
   "cell_type": "code",
   "execution_count": 15,
   "metadata": {},
   "outputs": [
    {
     "data": {
      "image/png": "[encoded data removed]",
      "text/plain": [
       "<Figure size 640x480 with 1 Axes>"
      ]
     },
     "metadata": {},
     "output_type": "display_data"
    }
   ],
   "source": [
    "fig, axes = plt.subplots()\n",
    "\n",
    "V_c = np.array([-600, -300, 300, 600]) # Returning to ft/min \n",
    "\n",
    "axes.plot(V_c,P_r[0],'-r',label='Sea Level')\n",
    "axes.plot(V_c,P_r[1],'-b',label='5000ft')\n",
    "axes.plot(V_c,P_r[2],'-g',label='10,000ft')\n",
    "\n",
    "axes.set_xlabel('Vertical velocity')\n",
    "axes.set_ylabel('Power Required, HP')\n",
    "\n",
    "axes.legend(loc=0);"
   ]
  },
  {
   "cell_type": "markdown",
   "metadata": {},
   "source": [
    "**Discussion:**  For a given engine configuration, the altitude will limit the vertical climb rate in much the same way that it does an aircraft.  The air gets thinner, and so the momentum imparted to the air is less for a given amount of power.  Less lift(thrust here) can be generated for a given amount of power."
   ]
  },
  {
   "cell_type": "markdown",
   "metadata": {},
   "source": [
    "### Problem 2:\n",
    "Starting from the momentum theory result for the induced flow at the rotor disk in forward\n",
    "flight, program numerical solutions to this inflow equation using both the fixed-point (FP)\n",
    "iterative method and the Newton-Raphson (NR) method. Compare your numerical results\n",
    "with the exact analytic result for the case where rotor disk angle of attack (α) is zero. Plot\n",
    "analytic theory as a curve and numerical solution as discrete points with symbols. For both\n",
    "numerical methods, explore the effect of the initial guess for λ on the results from the\n",
    "numerical solution. [Assume $C_T = 0.01$]"
   ]
  },
  {
   "cell_type": "markdown",
   "metadata": {},
   "source": [
    "***********\n",
    "Essentially, this problem is asking me to solve for $\\lambda$ in the implicit function \n",
    "$$\\lambda = \\mu   tan (\\alpha) + \\frac{C_T}{2 \\sqrt(\\mu^2 + \\lambda^2) } + \\lambda_c cos (\\alpha), $$\n",
    "\n",
    "where $\\lambda_c = \\frac{V_c}{\\Omega R}$, and $\\mu$, the inflow ratio, is equal to $ \\frac{V_{\\infty}}{\\Omega R}.$ \n",
    "\n",
    "\n",
    "\n",
    "\n",
    "\n"
   ]
  },
  {
   "cell_type": "markdown",
   "metadata": {},
   "source": [
    "Expectations:\n",
    "\n",
    " * Advance ratio, $\\mu$, is between 0 and 0.7\n",
    " * Alpha is small, ($\\pm 10^{ \\circ}$) to avoid stall\n",
    " * Since we're in strictly forward flight, $\\lambda_c = 0$."
   ]
  },
  {
   "cell_type": "markdown",
   "metadata": {},
   "source": [
    "**Fixed Point**"
   ]
  },
  {
   "cell_type": "code",
   "execution_count": 16,
   "metadata": {},
   "outputs": [],
   "source": [
    "def lambda_(alpha, C_T, mu, lambda_guess, lambda_c):  #  Cannot simply use 'lambda' since that's a python reserved word.\n",
    "    return mu * np.tan(np.degrees(alpha) ) + C_T/ ( 2 * np.sqrt(mu**2 + C_T**2)) + lambda_c * np.cos(alpha)\n",
    "\n",
    "\n",
    "C_T = 0.01 # Given in problem statement\n",
    "alpha = 0.0\n",
    "mu = 0.0\n",
    "lambda_c = 0.0"
   ]
  },
  {
   "cell_type": "code",
   "execution_count": 18,
   "metadata": {},
   "outputs": [],
   "source": [
    "max_iter = 10\n",
    "\n",
    "lambda_fp = np.zeros((3,max_iter))\n",
    "lambda_h = np.sqrt(C_T / 2)\n",
    "lambda_analytic = np.sqrt(- 0.5 * (mu/lambda_h)**2 + np.sqrt((1/4) * (mu/lambda_h)**4 + 1)) * lambda_h * np.ones(max_iter)\n",
    "\n",
    "\n",
    "# Fixed point\n",
    "lambda_fp[0,0] = lambda_h\n",
    "lambda_fp[1,0] = 0.5\n",
    "lambda_fp[2,0] = 0.1\n",
    "\n",
    "\n",
    "for n in range(1,max_iter):\n",
    "    #print n\n",
    "    lambda_fp[0][n] = lambda_(alpha, C_T, mu,lambda_fp[0,n-1], lambda_c)\n",
    "    lambda_fp[1][n] = lambda_(alpha, C_T, mu,lambda_fp[1,n-1], lambda_c)\n",
    "    lambda_fp[2][n] = lambda_(alpha, C_T, mu,lambda_fp[2,n-1], lambda_c)\n",
    "    \n",
    "\n"
   ]
  },
  {
   "cell_type": "markdown",
   "metadata": {},
   "source": [
    "** Newton Raphson**\n",
    "$$ \\lambda_{n+1} = \\lambda_n - \\frac{f(\\lambda_n)}{f(\\lambda_n)} $$\n",
    "\n",
    "where $f(\\lambda) = \\lambda -(\\mu   tan (\\alpha) + \\frac{C_T}{2 \\sqrt(\\mu^2 + \\lambda^2) } + \\lambda_c cos (\\alpha)). $"
   ]
  },
  {
   "cell_type": "code",
   "execution_count": 20,
   "metadata": {},
   "outputs": [],
   "source": [
    "def f(alpha,C_T, mu, lambda_c, lambda_guess):\n",
    "    return lambda_guess - lambda_(alpha, C_T, mu, lambda_guess, lambda_c)\n",
    "\n",
    "def f_p(C_T, mu, lambda_guess):\n",
    "    return 1 + lambda_guess * (C_T/2) * (mu**2 + lambda_guess**2) **(-3/2)\n",
    "\n",
    "f(0,C_T, mu, lambda_c, lambda_h)  # Test\n",
    "f_p(C_T, mu, lambda_h)            # Test\n",
    "\n",
    "\n",
    "# Newton Raphson\n",
    "lambda_nr = np.zeros((3,max_iter))\n",
    "lambda_nr[0,0] = lambda_h\n",
    "lambda_nr[1,0] = 0.1\n",
    "lambda_nr[2,0] = 0.5\n",
    "\n",
    "\n",
    "for n in range(1,max_iter):\n",
    "    lambda_nr[0,n] = lambda_nr[0,n-1] - f(alpha, C_T, mu,lambda_c, lambda_nr[0,n-1])/ f_p(C_T, mu, lambda_nr[0,n-1])\n",
    "    lambda_nr[1,n] = lambda_nr[1,n-1] - f(alpha, C_T, mu,lambda_c, lambda_nr[1,n-1])/ f_p(C_T, mu, lambda_nr[1,n-1])\n",
    "    lambda_nr[2,n] = lambda_nr[2,n-1] - f(alpha, C_T, mu,lambda_c, lambda_nr[2,n-1])/ f_p(C_T, mu, lambda_nr[2,n-1])\n",
    "\n"
   ]
  },
  {
   "cell_type": "code",
   "execution_count": 21,
   "metadata": {},
   "outputs": [
    {
     "data": {
      "image/png": "[encoded data removed]",
      "text/plain": [
       "<Figure size 640x480 with 2 Axes>"
      ]
     },
     "metadata": {},
     "output_type": "display_data"
    }
   ],
   "source": [
    "# Make plots\n",
    "\n",
    "\n",
    "fig, axes = plt.subplots(nrows=1,ncols=2)\n",
    "\n",
    "iterations = np.array(range(1,max_iter + 1))\n",
    "\n",
    "axes[0].set_title('Fixed point')\n",
    "axes[0].scatter(iterations, lambda_fp[0,:],color='r')\n",
    "axes[0].scatter(iterations, lambda_fp[1,:],color='b')\n",
    "axes[0].scatter(iterations, lambda_fp[2,:],color='g')\n",
    "axes[0].set_xlabel('Iterations')\n",
    "axes[0].set_ylabel(r'$\\lambda$')\n",
    "#iterations[0]\n",
    "\n",
    "axes[1].set_title('Newton Raphson')\n",
    "axes[1].scatter(iterations, lambda_nr[0,:],color='r')\n",
    "axes[1].scatter(iterations, lambda_nr[1,:],color='b')\n",
    "axes[1].scatter(iterations, lambda_nr[2,:],color='g')\n",
    "axes[1].set_xlabel('Iterations')\n",
    "axes[1].set_ylabel(r'$\\lambda$');\n",
    "\n",
    "#axes[0].plot(lambda_analytic)\n",
    "#axes[1].plot(lambda_analytic);\n",
    "\n"
   ]
  },
  {
   "cell_type": "markdown",
   "metadata": {},
   "source": [
    "### Problem 3\n",
    "\n",
    "Using the numerical solution in Q.2, plot some example graphs of inflow ratio and i\n",
    "nduced \n",
    "inflow ratio versus advance ratio in level flight for a series of rotor  angles of attack\n",
    "(α)\n",
    ". \n",
    "Use both positive and negative angles of attack\n",
    "(\n",
    "vary α from \n",
    "-\n",
    "4\n",
    "° to 8° in 2° increments\n",
    ")\n",
    ". \n",
    "Explore the effect of initial guess for λ on the numerical solution, and suggest why a single \n",
    "unique  initial  condition  may  not  always  be  adequate  (use  both  FP  and  NR  methods). \n",
    "Comment on your results."
   ]
  },
  {
   "cell_type": "code",
   "execution_count": 22,
   "metadata": {},
   "outputs": [],
   "source": [
    "a_set = np.linspace(-4,8,7)\n",
    "mu_set = np.linspace(0,0.8)"
   ]
  },
  {
   "cell_type": "code",
   "execution_count": null,
   "metadata": {
    "collapsed": true,
    "jupyter": {
     "outputs_hidden": true
    }
   },
   "outputs": [],
   "source": []
  }
 ],
 "metadata": {
  "kernelspec": {
   "display_name": "Python 2",
   "language": "python",
   "name": "python2"
  },
  "language_info": {
   "codemirror_mode": {
    "name": "ipython",
    "version": 3
   },
   "file_extension": ".py",
   "mimetype": "text/x-python",
   "name": "python",
   "nbconvert_exporter": "python",
   "pygments_lexer": "ipython3",
   "version": "3.10.12"
  }
 },
 "nbformat": 4,
 "nbformat_minor": 4
}
