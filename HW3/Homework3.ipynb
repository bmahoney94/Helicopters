{
 "cells": [
  {
   "cell_type": "markdown",
   "metadata": {},
   "source": [
    "## Homework 3\n"
   ]
  },
  {
   "cell_type": "markdown",
   "metadata": {},
   "source": [
    "### Problem 1\n",
    "1.\n",
    "A rotor has a rectangular \n",
    "blade planform, a solidity of 0.1, ideal blade twist, and operates \n",
    "in hover at a thrust coefficient of 0.008. By numerical means, using the combined blade \n",
    "element momentum theory (BEMT), compare the predicted inflow ratio across the span of \n",
    "the blade with \n",
    "the exact (analytic) result (uniform inflow result). Plot a continuous line for \n",
    "exact result and points (markers) for the numerical result. Show also the radial distributions of \n",
    "thrust,  induced  torque,  lift  coefficient,  and  then  compare  the  solutions  obtained \n",
    "using  the exact  theory.  Compare the  numerical  calculations  of  the  integrated  thrust  and  induced \n",
    "power with exact results for this rotor over the range $0 < C_T < 0.01$. "
   ]
  },
  {
   "cell_type": "markdown",
   "metadata": {},
   "source": [
    "#### Known\n",
    "\n",
    "* Rectangular ==> $ C(r) = const$\n",
    "* $\\sigma = \\frac{N_b C}{\\pi R} = 0.1$ \n",
    "* Ideal blade twist ==> $\\theta(r) = \\frac{\\theta_{tip}}{r} $\n",
    "* $C_T = 0.008$"
   ]
  },
  {
   "cell_type": "code",
   "execution_count": 21,
   "metadata": {
    "collapsed": false
   },
   "outputs": [],
   "source": [
    "import numpy as np\n",
    "import matplotlib.pyplot as plt\n",
    "from scipy.optimize import bisect, fixed_point # Used later\n",
    "%matplotlib inline"
   ]
  },
  {
   "cell_type": "markdown",
   "metadata": {},
   "source": [
    "Define a function to compute the solidity distribution."
   ]
  },
  {
   "cell_type": "code",
   "execution_count": 2,
   "metadata": {
    "collapsed": false
   },
   "outputs": [
    {
     "name": "stdout",
     "output_type": "stream",
     "text": [
      "Preliminary tests passed.\n"
     ]
    }
   ],
   "source": [
    "def get_solidity(r, sigma_tip, taper='None'):\n",
    "    \"\"\" Return a vector for the solidity variation with respect to r.  \"\"\"\n",
    "    sigma = np.ones(r.shape)\n",
    "\n",
    "    if taper == 'None':\n",
    "        sigma = sigma * sigma_tip\n",
    "        \n",
    "    elif taper == 'Ideal':\n",
    "        sigma = sigma_tip / r\n",
    "        \n",
    "    elif taper == 'Linear':\n",
    "        sigma = sigma_tip * ( 1-r) * sigma_tip\n",
    "    else:\n",
    "        print 'Not a valid option!'\n",
    "    return sigma\n",
    "        \n",
    "        \n",
    "def test_solidity():\n",
    "    r = np.linspace(0.2,1)\n",
    "    sigma_test = 0.1\n",
    "    get_solidity(r, sigma_test) # Untapered\n",
    "    get_solidity(r, sigma_test, taper='Ideal')  \n",
    "    get_solidity(r, sigma_test, taper='Linear')\n",
    "    print 'Preliminary tests passed.'\n",
    "\n",
    "test_solidity()\n",
    "    "
   ]
  },
  {
   "cell_type": "markdown",
   "metadata": {},
   "source": [
    "Define a function to get the twist distribution."
   ]
  },
  {
   "cell_type": "code",
   "execution_count": 3,
   "metadata": {
    "collapsed": false
   },
   "outputs": [
    {
     "name": "stdout",
     "output_type": "stream",
     "text": [
      "Preliminary tests passed.\n"
     ]
    }
   ],
   "source": [
    "def get_theta(r, theta_tip, twist = 'None'):\n",
    "    theta = np.ones(r.shape)\n",
    "    \n",
    "    if twist == 'None':\n",
    "        theta = theta * theta_tip\n",
    "    elif twist == 'Ideal':\n",
    "        theta = theta_tip / r\n",
    "    elif twist == 'Linear':\n",
    "        theta = theta_tip + (1-r) * theta_tip\n",
    "    else:\n",
    "        print 'Not a valid option for the blade twist!'\n",
    "    return theta\n",
    "        \n",
    "def test_theta():\n",
    "    r = np.linspace(0.2,1)\n",
    "    theta_test = 0.1\n",
    "    get_theta(r, theta_test)                    # Untwisted\n",
    "    get_theta(r, theta_test, twist='Ideal')  \n",
    "    get_theta(r, theta_test, twist='Linear')\n",
    "    print 'Preliminary tests passed.'\n",
    "    \n",
    "test_theta()\n",
    "        \n",
    "        "
   ]
  },
  {
   "cell_type": "markdown",
   "metadata": {},
   "source": [
    "Create a 'meshing' function to discretize the blade properly."
   ]
  },
  {
   "cell_type": "code",
   "execution_count": 4,
   "metadata": {
    "collapsed": false
   },
   "outputs": [
    {
     "name": "stdout",
     "output_type": "stream",
     "text": [
      "Boundaries at: \n",
      "[ 0.    0.25  0.5   0.75  1.  ]\n",
      "Midpoints at: \n",
      "[ 0.    0.25  0.5   0.75]\n"
     ]
    }
   ],
   "source": [
    "# Spanwise discretization\n",
    "def gen_mesh(ny, e_root, test=False):\n",
    "    delta_r = (1-e_root) / ny\n",
    "    boundaries = np.linspace(e_root,1,ny+1)\n",
    "    midpoints = boundaries[:ny] + (delta_r/2) * np.ones(boundaries[:ny].shape)\n",
    "    if test:\n",
    "        print \"Boundaries at: \"\n",
    "        print np.linspace(e_root,1,ny+1)\n",
    "        print \"Midpoints at: \"\n",
    "        print midpoints\n",
    "    return midpoints\n",
    "\n",
    "\n",
    "def mesh_test():\n",
    "    gen_mesh(4, 0,test=True)\n",
    "    \n",
    "mesh_test()"
   ]
  },
  {
   "cell_type": "markdown",
   "metadata": {},
   "source": [
    "Create a function to get the inflow ratio distribution"
   ]
  },
  {
   "cell_type": "code",
   "execution_count": 5,
   "metadata": {
    "collapsed": false
   },
   "outputs": [
    {
     "name": "stdout",
     "output_type": "stream",
     "text": [
      "[ 0.03468357  0.03940919  0.04386663  0.04809695  0.05213169  0.0559957\n",
      "  0.05970898  0.0632879   0.06674608  0.07009495  0.07334429  0.07650246\n",
      "  0.07957674  0.08257347  0.08549825  0.08835602  0.09115118  0.09388769\n",
      "  0.09656907  0.09919855  0.10177901  0.1043131   0.10680324  0.10925164\n",
      "  0.11166032  0.11403116  0.11636589  0.11866611  0.1209333   0.12316886\n",
      "  0.12537406  0.12755012  0.12969815  0.13181922  0.13391431  0.13598436\n",
      "  0.13803024  0.14005278  0.14205276  0.14403092  0.14598796  0.14792454\n",
      "  0.14984129  0.15173881  0.15361766  0.15547839  0.1573215   0.15914749\n",
      "  0.16095684  0.16274998]\n"
     ]
    }
   ],
   "source": [
    "def inflow_ratio(sigma, theta, r):\n",
    "    \"\"\"Returns the inflow ratio, lambda, of a hovering rotor.\"\"\"\n",
    "    assert sigma.shape == theta.shape\n",
    "    assert theta.shape == r.shape\n",
    "    cl_alpha = 2 * np.pi\n",
    "#    lambda_ = np.zeros(r.shape)\n",
    "    lambda_ = (sigma * cl_alpha / 16) * (-1 + np.sqrt(1 + (32 * theta * r)/(sigma * cl_alpha)))\n",
    "    assert lambda_.shape == r.shape\n",
    "    return lambda_\n",
    "    \n",
    "def inflow_test():\n",
    "    r = np.linspace(0.1,1)\n",
    "    sigma = 0.1 * np.ones(r.shape)\n",
    "    theta = 0.5 * np.ones(r.shape)\n",
    "    print inflow_ratio(sigma, theta, np.linspace(0.1,1))\n",
    "    \n",
    "    \n",
    "inflow_test()"
   ]
  },
  {
   "cell_type": "markdown",
   "metadata": {},
   "source": [
    "Create functions to compute the inflow *angle*, and the thrust coefficient for a given geometry."
   ]
  },
  {
   "cell_type": "code",
   "execution_count": 6,
   "metadata": {
    "collapsed": false
   },
   "outputs": [],
   "source": [
    "def get_phi(r, lambda_):\n",
    "    phi = lambda_/r\n",
    "    return phi\n",
    "   \n",
    "\n",
    "def get_CT(r, sigma, theta, lambda_):\n",
    "    \"\"\" This function computes C_T by numerical integration.\"\"\"\n",
    "    phi = get_phi(r, lambda_)\n",
    "    assert r.shape == theta.shape\n",
    "    assert theta.shape == lambda_.shape\n",
    "    C_T = 0.\n",
    "    delta_r = r[1] - r[0]  # The mesh should be uniform, so this works.\n",
    "    for ind in xrange(0,len(r)):\n",
    "        #C_T = C_T + f(r[ind],sigma[ind],theta[ind],phi[ind]) * delta_r\n",
    "        C_T = C_T + 0.5 * sigma[ind] * 2 * np.pi * (theta[ind] - phi[ind]) * r[ind]**2\n",
    "    return C_T\n",
    "\n",
    "\n",
    "def test_phi():\n",
    "    r = gen_mesh(50,0.)\n",
    "    C_T = 0.008\n",
    "    return get_phi(r, np.sqrt(C_T/2))\n",
    "\n",
    "# This should look like a hyperbola if it works properly.\n",
    "#\n",
    "#plt.plot(gen_mesh(50,0.), test_phi())\n",
    "#plt.title('Test Plot');"
   ]
  },
  {
   "cell_type": "code",
   "execution_count": 7,
   "metadata": {
    "collapsed": false
   },
   "outputs": [
    {
     "name": "stdout",
     "output_type": "stream",
     "text": [
      "Theta_{tip} C_T\n",
      "0 0.0\n",
      "1 0.00432263397771\n",
      "2 0.0137077838904\n",
      "3 0.0258138958938\n",
      "4 0.0396883337248\n",
      "5 0.0548311355616\n",
      "6 0.0709411859211\n",
      "7 0.0878204716488\n",
      "8 0.105330534404\n",
      "9 0.123370055014\n",
      "\n",
      "1.43772059911\n"
     ]
    }
   ],
   "source": [
    "# Rectangular blade, ideal twist\n",
    "ny = 10\n",
    "e_root = 0.\n",
    "print 'Theta_{tip} ' + 'C_T'\n",
    "r = gen_mesh(ny, e_root)\n",
    "sigma = get_solidity(r,0.1)\n",
    "CT = 0.008 # Per the problem statement\n",
    "\n",
    "for index in xrange(0,10): # Testing to see if it's working.\n",
    "    theta_tip = np.radians(index)\n",
    " \n",
    "    pitch = get_theta(r,theta_tip, twist='Ideal')\n",
    "\n",
    "    lambda_ = inflow_ratio(sigma, pitch, r)\n",
    "    \n",
    "    print index,get_CT(r, sigma, pitch, lambda_)\n",
    "\n",
    "    \n",
    "#----------------------------------------------------------\n",
    "# Using scipy.optimize.bisect to get the theta_tip needed to fix C_T = 0.008\n",
    "\n",
    "def theta_residual_factory(r, sigma, lambda_, CT, twist_type):\n",
    "    \"\"\"\n",
    "    This factory function is necessary to interface with the scipy functions I need.\n",
    "    This functions builds a residual function that has a single parameter, 'theta_tip', that\n",
    "    scipy.optimize.bisect can solve for the roots of.\n",
    "    \"\"\"\n",
    "    def f(theta_tip):\n",
    "        theta = get_theta(r, theta_tip, twist=twist_type)\n",
    "        lambda_ = inflow_ratio(sigma,theta, r)  # Missing this earlier\n",
    "        \n",
    "        residual = CT - get_CT(r, sigma, theta, lambda_)\n",
    "        return residual\n",
    "    return f\n",
    "\n",
    "residual = theta_residual_factory(r, sigma, lambda_, CT, 'Ideal')\n",
    "theta_tip = bisect(residual, 0, np.pi/2)\n",
    "\n",
    "print\n",
    "print np.degrees(theta_tip)\n",
    "\n",
    "\n"
   ]
  },
  {
   "cell_type": "code",
   "execution_count": 8,
   "metadata": {
    "collapsed": false
   },
   "outputs": [
    {
     "data": {
      "text/plain": [
       "(array([ 0.02,  0.02,  0.02,  0.02,  0.02,  0.02,  0.02,  0.02,  0.02,  0.02]),\n",
       " array([  8.00000000e-05,   2.40000000e-04,   4.00000000e-04,\n",
       "          5.60000000e-04,   7.20000000e-04,   8.80000000e-04,\n",
       "          1.04000000e-03,   1.20000000e-03,   1.36000000e-03,\n",
       "          1.52000000e-03]),\n",
       " array([  5.02654825e-06,   1.50796447e-05,   2.51327412e-05,\n",
       "          3.51858377e-05,   4.52389342e-05,   5.52920307e-05,\n",
       "          6.53451272e-05,   7.53982237e-05,   8.54513202e-05,\n",
       "          9.55044167e-05]),\n",
       " array([ 0.64      ,  0.21333333,  0.128     ,  0.09142857,  0.07111111,\n",
       "         0.05818182,  0.04923077,  0.04266667,  0.03764706,  0.03368421]))"
      ]
     },
     "execution_count": 8,
     "metadata": {},
     "output_type": "execute_result"
    }
   ],
   "source": [
    "def set_CT(CT, r, sigma, theta, twist_type='Ideal'):\n",
    "    \"\"\"\n",
    "    Pick a value for CT, feed in a blade mesh and geometry, and this function should give\n",
    "    everything that needs to be plotted.\n",
    "    \"\"\"\n",
    "    lambda_ = inflow_ratio(sigma, theta, r)\n",
    "    \n",
    "    def theta_residual_factory(r, sigma, lambda_, CT, twist_type):\n",
    "        \"\"\"\n",
    "        This factory function is necessary to interface with the scipy functions I need.\n",
    "        This functions builds a residual function that has a single parameter, 'theta_tip', that\n",
    "        scipy.optimize.bisect can solve for the roots of.\n",
    "        \"\"\"\n",
    "        def f(theta_tip):\n",
    "            theta = get_theta(r, theta_tip, twist=twist_type)\n",
    "            lambda_ = inflow_ratio(sigma,theta, r)  # Missing this earlier\n",
    "\n",
    "            residual = CT - get_CT(r, sigma, theta, lambda_)\n",
    "            return residual\n",
    "        return f\n",
    "\n",
    "    residual = theta_residual_factory(r, sigma, lambda_, CT, twist_type)\n",
    "    theta_tip = bisect(residual, 0, np.pi/2)  # Returns the angle in radians\n",
    "    \n",
    "    pitch = get_theta(r, theta_tip, twist='Ideal')\n",
    "    lambda_ = inflow_ratio(sigma, pitch, r)\n",
    "    \n",
    "    phi = get_phi(r, lambda_)\n",
    "    alpha = pitch - phi\n",
    "    cl = alpha * 2 * np.pi\n",
    "    dCT = 0.5 * sigma * cl * r**2\n",
    "    dCQ = np.pi/2 * sigma * r**3 * phi * cl\n",
    "    \n",
    "    \n",
    "    return lambda_, dCT, dCQ, cl\n",
    "\n",
    "set_CT(0.008, r, sigma, pitch) # Testing to see if it works."
   ]
  },
  {
   "cell_type": "markdown",
   "metadata": {},
   "source": [
    "**Solution**"
   ]
  },
  {
   "cell_type": "code",
   "execution_count": 9,
   "metadata": {
    "collapsed": false
   },
   "outputs": [
    {
     "data": {
      "image/png": "[encoded data removed]",
      "text/plain": [
       "<matplotlib.figure.Figure at 0x7f1dcf7a5b90>"
      ]
     },
     "metadata": {},
     "output_type": "display_data"
    }
   ],
   "source": [
    "# Rectangular blade, ideal twist\n",
    "ny = 20\n",
    "e_root = 0.\n",
    "\n",
    "r = gen_mesh(ny, e_root)\n",
    "sigma = get_solidity(r,0.1)\n",
    "pitch = get_theta(r, 0,twist='Ideal')\n",
    "CT = 0.008 # Per the problem statement\n",
    "\n",
    "inflow_n, dCT, dCQ, cl = set_CT(CT, r, sigma, pitch) \n",
    "\n",
    "inflow_ana = np.sqrt(CT/(2*ny)) * np.ones(r.shape) # From momentum theory\n",
    "# Generate the plots\n",
    "fig, axes = plt.subplots(2,2,figsize=(12,8))\n",
    "\n",
    "axes[0,0].scatter(r, inflow_n,label='Numerical')\n",
    "axes[0,0].plot(r, inflow_ana, label='Analytical(Mom. Theory)')\n",
    "axes[0,0].set_xlabel('r')\n",
    "axes[0,0].set_ylabel(r'$\\lambda(r)$')\n",
    "axes[0,0].set_title('Inflow Ratio for Ideally Twisted Blade')\n",
    "\n",
    "axes[0,0].legend(loc=0);\n",
    "\n",
    "## Thrust Distribution\n",
    "axes[0,1].scatter(r, dCT,label='Numerical')\n",
    "axes[0,1].plot(r, CT/ny * np.ones(r.shape), label='Analytical(Mom. Theory)')\n",
    "axes[0,1].set_xlabel('r')\n",
    "axes[0,1].set_ylabel(r'$dC_T$')\n",
    "axes[0,1].set_title('Thrust Distribution for Ideally Twisted Blade')\n",
    "\n",
    "axes[0,1].legend(loc=0);\n",
    "\n",
    "## Induced Torque\n",
    "axes[1,0].scatter(r, dCQ,label='Numerical')\n",
    "axes[1,0].plot(r, CT/ny * np.ones(r.shape) * np.sqrt(CT/2), label='Analytical(Mom. Theory)')\n",
    "axes[1,0].set_xlabel('r')\n",
    "axes[1,0].set_ylabel(r'$dC_Q$')\n",
    "axes[1,0].set_title('Induced Torque for Ideally Twisted Blade')\n",
    "\n",
    "axes[1,0].legend(loc=0);\n",
    "\n",
    "\n",
    "## Lift Coefficient\n",
    "axes[1,1].scatter(r, cl,label='Numerical')\n",
    "#axes[1,0].plot(r, CT/ny * np.ones(r.shape) * np.sqrt(CT/2), label='Analytical(Mom. Theory)')\n",
    "axes[1,1].set_xlabel('r')\n",
    "axes[1,1].set_ylabel(r'$C_l$')\n",
    "axes[1,1].set_title('Lift Coefficient Distribution for Ideally Twisted Blade')\n",
    "\n",
    "axes[1,1].legend(loc=0);\n",
    "\n",
    "\n",
    "\n",
    "fig.tight_layout()"
   ]
  },
  {
   "cell_type": "markdown",
   "metadata": {},
   "source": [
    "The $C_l$ plot doesn't seem right.  I expected it to be a constant with respect to r."
   ]
  },
  {
   "cell_type": "markdown",
   "metadata": {},
   "source": [
    "### Problem 2"
   ]
  },
  {
   "cell_type": "markdown",
   "metadata": {},
   "source": [
    "Using\n",
    "BEMT, implement Prandtl’s tip-loss function. For a rotor of solidity 0.1 and with no \n",
    "blade twist, show the effects of the tip-loss effect on the induced inflow, thrust distribution, \n",
    "lift coefficient distribution, and torque distribution across the blade span. Neglect profile \n",
    "drag  in  this  case.  Compare  the  results  for  rotors  with  2  and  4  blades  at  the  same  thrust \n",
    "coefficient of 0.008. Also, calculate the induced power factor (κ) for the two rotors, with \n",
    "and without the tip-loss effect and comment on your results."
   ]
  },
  {
   "cell_type": "code",
   "execution_count": 11,
   "metadata": {
    "collapsed": false
   },
   "outputs": [
    {
     "name": "stdout",
     "output_type": "stream",
     "text": [
      "Tip loss function test\n"
     ]
    },
    {
     "data": {
      "image/png": "[encoded data removed]",
      "text/plain": [
       "<matplotlib.figure.Figure at 0x7f1dcf7e3250>"
      ]
     },
     "metadata": {},
     "output_type": "display_data"
    }
   ],
   "source": [
    "N_b = 4. \n",
    "\n",
    "def F(r, phi, nb=4):\n",
    "    \"\"\"Prandtl's tip-loss function.\"\"\"\n",
    "    def f(r, phi, nb):\n",
    "        \"\"\"Exponent of Prandtl's tip-loss function.\"\"\"\n",
    "        f = (nb/2) * (np.ones(r.shape) - r) / (r * phi)\n",
    "        return f\n",
    "    F = ( 2 / np.pi) * np.arccos(np.exp(-f(r, phi, nb)))\n",
    "    return F\n",
    "\n",
    "def F_test():\n",
    "    r = gen_mesh(100, 0.)\n",
    "    print 'Tip loss function test'\n",
    "    plt.plot(r,F(r, 0.1 * np.ones(r.shape),4),label=r'$N_b = 4$')\n",
    "    plt.plot(r,F(r, 0.1 * np.ones(r.shape),2),label=r'$N_b = 2$')\n",
    "    plt.legend(loc=0)\n",
    "    plt.xlabel('r')\n",
    "    plt.ylabel('F')\n",
    "    plt.title(\"Prandt's tip-loss function\")\n",
    "    \n",
    "F_test()"
   ]
  },
  {
   "cell_type": "code",
   "execution_count": 74,
   "metadata": {
    "collapsed": false
   },
   "outputs": [
    {
     "data": {
      "text/plain": [
       "array([ 0.00308298,  0.00676941,  0.00944476,  0.01165468,  0.01358088,\n",
       "        0.01531077,  0.01689438,  0.01836354,  0.01973997,  0.02108958])"
      ]
     },
     "execution_count": 74,
     "metadata": {},
     "output_type": "execute_result"
    }
   ],
   "source": [
    "def inflow_ratio_2(sigma, theta, r, nb):\n",
    "    \"\"\"\n",
    "    Returns the inflow ratio, lambda, of a hovering rotor with tip losses being\n",
    "    accounted for.\n",
    "    \"\"\"\n",
    "    assert sigma.shape == theta.shape\n",
    "    assert theta.shape == r.shape\n",
    "    cl_alpha = 2 * np.pi\n",
    "    # First guess for lambda_ assumes no tip loss\n",
    "    lambda_ = inflow_ratio(sigma, theta, r)\n",
    "    for index in xrange(0,100):\n",
    "        phi = get_phi(r, lambda_)\n",
    "        tip_loss = F(r, phi, nb)\n",
    "        lambda_ = ((sigma * cl_alpha)/(18 * tip_loss)) * (np.sqrt(1 + (32*tip_loss * theta * r)/(sigma * cl_alpha)) - 1)\n",
    "    \n",
    "    \n",
    "    assert lambda_.shape == r.shape\n",
    "    return lambda_\n",
    "\n",
    "def inflow_test_2():\n",
    "    nb = 8\n",
    "    r = gen_mesh(10,0.)\n",
    "    return inflow_ratio_2(0.01 * np.ones(r.shape), 0.1 * np.ones(r.shape), r,4)\n",
    "    \n",
    "inflow_test_2()"
   ]
  },
  {
   "cell_type": "markdown",
   "metadata": {},
   "source": [
    "**Solution **"
   ]
  },
  {
   "cell_type": "code",
   "execution_count": 75,
   "metadata": {
    "collapsed": false
   },
   "outputs": [],
   "source": [
    "# Rectangular, untwisted, untapered, with 2 blades\n",
    "nb = 2\n",
    "ny = 10\n",
    "sigma_tip_2 = 0.1\n",
    "CT = 0.008\n",
    "r = gen_mesh(ny, 0.)\n",
    "sigma_2 = get_solidity(r, sigma_tip_2)\n",
    "theta_tip_2 = np.radians(1.635)  # Must change this to drive CT to 0.008 as before\n",
    "pitch_2 = get_theta(r, theta_tip_2,'None')\n",
    "lambda_2 = inflow_ratio_2(sigma_2, pitch_2, r, nb)\n",
    "\n",
    "\n",
    "phi_2 = get_phi(r, lambda_2)\n",
    "alpha_2 = pitch_2 - phi_2\n",
    "cl_2 = alpha_2 * 2 * np.pi\n",
    "dCT_2 = 0.5 * sigma_2 * cl_2 * r**2\n",
    "dCQ_2 = np.pi/2 * sigma_2 * r**3 * phi_2 * cl_2\n",
    "rotor2_stuff = lambda_2, dCT_2, dCQ_2, cl_2\n",
    "\n",
    "# Rectangular, untwisted, untapered, with 4 blades\n",
    "Nb = 4\n",
    "sigma_tip_3 = 0.1\n",
    "sigma_3 = get_solidity(r, sigma_tip_3)\n",
    "theta_tip_3 = np.radians(1.63)  # Must change this to drive CT to 0.008 as before\n",
    "pitch_3 = get_theta(r, theta_tip_3,'None')\n",
    "lambda_3 = inflow_ratio_2(sigma_3, pitch_3, r, Nb)\n",
    "\n",
    "phi_3 = get_phi(r, lambda_3)\n",
    "alpha_3 = pitch_3 - phi_3\n",
    "cl_3 = alpha_3 * 2 * np.pi\n",
    "dCT_3 = 0.5 * sigma_3 * cl_3 * r**2\n",
    "dCQ_3 = np.pi/2 * sigma_3 * r**3 * phi_3 * cl_3\n",
    "rotor3_stuff = lambda_3, dCT_3, dCQ_3, cl_3\n",
    "\n"
   ]
  },
  {
   "cell_type": "code",
   "execution_count": 77,
   "metadata": {
    "collapsed": false
   },
   "outputs": [
    {
     "data": {
      "image/png": "[encoded data removed]",
      "text/plain": [
       "<matplotlib.figure.Figure at 0x7f1dcd03e210>"
      ]
     },
     "metadata": {},
     "output_type": "display_data"
    }
   ],
   "source": [
    "# Generate the plots\n",
    "fig, axes = plt.subplots(2,2,figsize=(12,8))\n",
    "\n",
    "axes[0,0].scatter(r, rotor2_stuff[0],label='2 Blades',color='b')\n",
    "axes[0,0].scatter(r, rotor3_stuff[0],label='4 Blades',color='r')\n",
    "axes[0,0].set_xlabel('r')\n",
    "axes[0,0].set_ylabel(r'$\\lambda(r)$')\n",
    "\n",
    "axes[0,0].legend(loc=0);\n",
    "\n",
    "## Thrust Distribution\n",
    "axes[0,1].scatter(r, rotor2_stuff[1],label='2 Blades')\n",
    "axes[0,1].scatter(r, rotor3_stuff[1],label='4 Blades',color='r')\n",
    "axes[0,1].set_xlabel('r')\n",
    "axes[0,1].set_ylabel(r'$dC_T$')\n",
    "\n",
    "axes[0,1].legend(loc=0);\n",
    "\n",
    "## Induced Torque\n",
    "axes[1,0].scatter(r, rotor2_stuff[2],label='2 Blades')\n",
    "axes[1,0].scatter(r, rotor3_stuff[2],label='4 Blades',color='r')\n",
    "axes[1,0].set_xlabel('r')\n",
    "axes[1,0].set_ylabel(r'$dC_Q$')\n",
    "\n",
    "axes[1,0].legend(loc=0);\n",
    "\n",
    "\n",
    "## Lift Coefficient\n",
    "axes[1,1].scatter(r, rotor2_stuff[3],label='2 Blades')\n",
    "axes[1,1].scatter(r, rotor3_stuff[3],label='4 Blades',color='r')\n",
    "axes[1,1].set_xlabel('r')\n",
    "axes[1,1].set_ylabel(r'$C_l$')\n",
    "\n",
    "axes[1,1].legend(loc=0);\n",
    "\n",
    "\n",
    "\n",
    "fig.tight_layout()"
   ]
  },
  {
   "cell_type": "code",
   "execution_count": 88,
   "metadata": {
    "collapsed": false
   },
   "outputs": [
    {
     "name": "stdout",
     "output_type": "stream",
     "text": [
      "Induced power factors for 2 blade and 4 blade rotors, respectively.\n"
     ]
    },
    {
     "data": {
      "text/plain": [
       "(0.078824726415253621, 0.078824726415253621)"
      ]
     },
     "execution_count": 88,
     "metadata": {},
     "output_type": "execute_result"
    }
   ],
   "source": [
    "def get_Cp(r, dCQ):\n",
    "    delta_r = r[1] - r[0]\n",
    "    Cp = 0.\n",
    "    for element in dCQ:\n",
    "        Cp = Cp + delta_r * element\n",
    "    return Cp\n",
    "\n",
    "Cp_2 = get_Cp(r, dCQ_2)\n",
    "Cp_3 = get_Cp(r, dCQ_3)\n",
    "kappa_2 = Cp_2 * np.sqrt(2/(CT**3))\n",
    "kappa_3 = Cp_2 * np.sqrt(2/(CT**3))\n",
    "\n",
    "print 'Induced power factors for 2 blade and 4 blade rotors, respectively.'\n",
    "kappa_2, kappa_3"
   ]
  },
  {
   "cell_type": "markdown",
   "metadata": {},
   "source": [
    "Without the tip-loss effects, these Kappa values would be a bit closer to 1.  They cannot reach 1 however since the blades are not twisted."
   ]
  },
  {
   "cell_type": "markdown",
   "metadata": {},
   "source": [
    "### Problem 3\n",
    "\n",
    "Using BEMT, show the effect of increasing linear twist on the variations in inflow, thrust, induced power, profile power and lift coefficient across the span of a rotor with 4 blades of  rectangular planform and solidity 0.1, and  operating  at a thrust coefficient of 0.008. \n",
    "Assume Cd= 0.011. Include Prandtl’s tip-loss effects. All of the results should be compared \n",
    "at a constant thrust (disk loading)."
   ]
  }
 ],
 "metadata": {
  "kernelspec": {
   "display_name": "Python 2",
   "language": "python",
   "name": "python2"
  },
  "language_info": {
   "codemirror_mode": {
    "name": "ipython",
    "version": 2
   },
   "file_extension": ".py",
   "mimetype": "text/x-python",
   "name": "python",
   "nbconvert_exporter": "python",
   "pygments_lexer": "ipython2",
   "version": "2.7.12"
  }
 },
 "nbformat": 4,
 "nbformat_minor": 0
}
